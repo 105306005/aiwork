{
 "cells": [
  {
   "cell_type": "markdown",
   "metadata": {},
   "source": [
    "# 輸入某年某月某日，判斷這一天是這一年的第幾天"
   ]
  },
  {
   "cell_type": "code",
   "execution_count": 2,
   "metadata": {},
   "outputs": [
    {
     "name": "stdout",
     "output_type": "stream",
     "text": [
      "輸入年月日，判斷這一天是這一年的第幾天\n",
      "請輸入年份>> 2020\n",
      "請輸入月份>> 8\n",
      "請輸入日期>> 8\n",
      "是2020年的第220天\n"
     ]
    }
   ],
   "source": [
    "print(\"輸入年月日，判斷這一天是這一年的第幾天\")\n",
    "year = int(input(\"請輸入年份>> \"))\n",
    "month = int(input(\"請輸入月份>> \"))\n",
    "day = int(input(\"請輸入日期>> \"))\n",
    "\n",
    "#存儲前面月份的天數\n",
    "store_day = 0\n",
    "days = [0,31,28,31,30,31,30,31,31,30,31,30]\n",
    "\n",
    "#判斷是否為閏年\n",
    "if(year % 400 == 0 or (year % 4 ==0 and year % 100 ==0)):\n",
    "    days[2] += 1\n",
    "    \n",
    "for i in range(month):\n",
    "    store_day += days[i]    \n",
    "    \n",
    "ans = store_day+day\n",
    "print(\"是\"+str(year)+\"年的第\"+str(ans)+\"天\")"
   ]
  },
  {
   "cell_type": "code",
   "execution_count": null,
   "metadata": {},
   "outputs": [],
   "source": []
  }
 ],
 "metadata": {
  "kernelspec": {
   "display_name": "Python 3",
   "language": "python",
   "name": "python3"
  },
  "language_info": {
   "codemirror_mode": {
    "name": "ipython",
    "version": 3
   },
   "file_extension": ".py",
   "mimetype": "text/x-python",
   "name": "python",
   "nbconvert_exporter": "python",
   "pygments_lexer": "ipython3",
   "version": "3.7.4"
  }
 },
 "nbformat": 4,
 "nbformat_minor": 2
}
