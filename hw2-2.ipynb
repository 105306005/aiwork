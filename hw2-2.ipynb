{
 "cells": [
  {
   "cell_type": "code",
   "execution_count": 1,
   "metadata": {},
   "outputs": [
    {
     "name": "stdout",
     "output_type": "stream",
     "text": [
      "今天適合水水的穿搭是...\n",
      "t-shirt 配 長褲 配 拖鞋\n"
     ]
    }
   ],
   "source": [
    "from random import choice\n",
    "top = [\"襯衫\",\"t-shirt\",\"背心\",\"polo衫\"]\n",
    "bottom = [\"短褲\",\"長褲\",\"短裙\",\"長裙\"]\n",
    "shoes = [\"拖鞋\",\"涼鞋\",\"高跟鞋\",\"布鞋\"]\n",
    "print(\"今天適合水水的穿搭是...\")\n",
    "print(choice(top)+\" 配 \"+choice(bottom)+\" 配 \"+choice(shoes))"
   ]
  },
  {
   "cell_type": "code",
   "execution_count": null,
   "metadata": {},
   "outputs": [],
   "source": []
  },
  {
   "cell_type": "code",
   "execution_count": null,
   "metadata": {},
   "outputs": [],
   "source": []
  },
  {
   "cell_type": "code",
   "execution_count": null,
   "metadata": {},
   "outputs": [],
   "source": []
  },
  {
   "cell_type": "code",
   "execution_count": null,
   "metadata": {},
   "outputs": [],
   "source": []
  }
 ],
 "metadata": {
  "kernelspec": {
   "display_name": "Python 3",
   "language": "python",
   "name": "python3"
  },
  "language_info": {
   "codemirror_mode": {
    "name": "ipython",
    "version": 3
   },
   "file_extension": ".py",
   "mimetype": "text/x-python",
   "name": "python",
   "nbconvert_exporter": "python",
   "pygments_lexer": "ipython3",
   "version": "3.7.4"
  }
 },
 "nbformat": 4,
 "nbformat_minor": 2
}
